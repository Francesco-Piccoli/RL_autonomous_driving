{
  "nbformat": 4,
  "nbformat_minor": 0,
  "metadata": {
    "colab": {
      "name": "DQN C51.ipynb",
      "provenance": []
    },
    "kernelspec": {
      "name": "python3",
      "display_name": "Python 3"
    }
  },
  "cells": [
    {
      "cell_type": "markdown",
      "metadata": {
        "id": "LUuiBghChrYJ",
        "colab_type": "text"
      },
      "source": [
        "# Tensorflow agents\n"
      ]
    },
    {
      "cell_type": "code",
      "metadata": {
        "id": "i8h8sPYBt1LC",
        "colab_type": "code",
        "outputId": "a0348928-929c-4f81-b5be-b01600efe9e0",
        "colab": {
          "base_uri": "https://localhost:8080/",
          "height": 50
        }
      },
      "source": [
        "from google.colab import drive\n",
        "drive.mount('/content/gdrive')\n",
        "%cd gdrive/My Drive/265"
      ],
      "execution_count": 1,
      "outputs": [
        {
          "output_type": "stream",
          "text": [
            "Drive already mounted at /content/gdrive; to attempt to forcibly remount, call drive.mount(\"/content/gdrive\", force_remount=True).\n",
            "/content/gdrive/My Drive/265\n"
          ],
          "name": "stdout"
        }
      ]
    },
    {
      "cell_type": "code",
      "metadata": {
        "id": "CVpIYO7jt6X3",
        "colab_type": "code",
        "outputId": "013b53e6-7b4d-4b2f-ccf8-393d8529f281",
        "colab": {
          "base_uri": "https://localhost:8080/",
          "height": 50
        }
      },
      "source": [
        "%cd highway-env\n",
        "!pip install pygame"
      ],
      "execution_count": 2,
      "outputs": [
        {
          "output_type": "stream",
          "text": [
            "/content/gdrive/My Drive/265/highway-env\n",
            "Requirement already satisfied: pygame in /usr/local/lib/python3.6/dist-packages (1.9.6)\n"
          ],
          "name": "stdout"
        }
      ]
    },
    {
      "cell_type": "code",
      "metadata": {
        "id": "lIULUp7Ht9MV",
        "colab_type": "code",
        "outputId": "6ff5e69a-fe56-4b2c-9b84-9d5b64fdda81",
        "colab": {
          "base_uri": "https://localhost:8080/",
          "height": 67
        }
      },
      "source": [
        "# Environment\n",
        "#!pip install git+https://github.com/eleurent/highway-env#egg=highway-env  > /dev/null 2>&1\n",
        "import gym\n",
        "import highway_env\n",
        "\n",
        "# Agent\n",
        "!pip install git+https://github.com/eleurent/rl-agents#egg=rl-agents > /dev/null 2>&1\n",
        "from rl_agents.agents.common.factory import agent_factory\n",
        "\n",
        "# Visualisation\n",
        "import sys\n",
        "from tqdm import tnrange\n",
        "#!git clone https://github.com/eleurent/highway-env.git > /dev/null 2>&1\n",
        "!pip install gym pyvirtualdisplay > /dev/null 2>&1\n",
        "!apt-get install -y xvfb python-opengl ffmpeg > /dev/null 2>&1\n",
        "#sys.path.insert(0, './scripts/')\n",
        "from scripts.utils import record_videos, show_videos, capture_intermediate_frames\n"
      ],
      "execution_count": 3,
      "outputs": [
        {
          "output_type": "stream",
          "text": [
            "pygame 1.9.6\n",
            "Hello from the pygame community. https://www.pygame.org/contribute.html\n"
          ],
          "name": "stdout"
        },
        {
          "output_type": "stream",
          "text": [
            "xdpyinfo was not found, X start can not be checked! Please install xdpyinfo!\n"
          ],
          "name": "stderr"
        }
      ]
    },
    {
      "cell_type": "code",
      "metadata": {
        "id": "1c94A52ph8Ay",
        "colab_type": "code",
        "outputId": "4672d908-cc40-4298-c174-d9efd151d97d",
        "colab": {
          "base_uri": "https://localhost:8080/",
          "height": 117
        }
      },
      "source": [
        "!sudo apt-get install -y xvfb ffmpeg\n",
        "!pip install -q 'gym==0.10.11'\n",
        "!pip install -q 'imageio==2.4.0'\n",
        "!pip install -q PILLOW\n",
        "!pip install -q 'pyglet==1.3.2'\n",
        "!pip install -q pyvirtualdisplay\n",
        "!pip install -q --upgrade tensorflow-probability\n",
        "!pip install -q tf-agents"
      ],
      "execution_count": 4,
      "outputs": [
        {
          "output_type": "stream",
          "text": [
            "Reading package lists... Done\n",
            "Building dependency tree       \n",
            "Reading state information... Done\n",
            "ffmpeg is already the newest version (7:3.4.6-0ubuntu0.18.04.1).\n",
            "xvfb is already the newest version (2:1.19.6-1ubuntu4.4).\n",
            "0 upgraded, 0 newly installed, 0 to remove and 29 not upgraded.\n"
          ],
          "name": "stdout"
        }
      ]
    },
    {
      "cell_type": "code",
      "metadata": {
        "id": "FfvdIj5Qh1Vg",
        "colab_type": "code",
        "outputId": "31306b04-b166-4fbd-e349-4384b257fb28",
        "colab": {
          "base_uri": "https://localhost:8080/",
          "height": 33
        }
      },
      "source": [
        "from __future__ import absolute_import\n",
        "from __future__ import division\n",
        "from __future__ import print_function\n",
        "\n",
        "import base64\n",
        "import imageio\n",
        "import IPython\n",
        "import matplotlib\n",
        "import matplotlib.pyplot as plt\n",
        "import PIL.Image\n",
        "import pyvirtualdisplay\n",
        "\n",
        "import tensorflow as tf\n",
        "\n",
        "from tf_agents.agents.categorical_dqn import categorical_dqn_agent\n",
        "from tf_agents.drivers import dynamic_step_driver\n",
        "from tf_agents.environments import suite_gym\n",
        "from tf_agents.environments import tf_py_environment\n",
        "from tf_agents.eval import metric_utils\n",
        "from tf_agents.metrics import tf_metrics\n",
        "from tf_agents.networks import categorical_q_network\n",
        "from tf_agents.policies import random_tf_policy\n",
        "from tf_agents.replay_buffers import tf_uniform_replay_buffer\n",
        "from tf_agents.trajectories import trajectory\n",
        "from tf_agents.utils import common\n",
        "\n",
        "tf.compat.v1.enable_v2_behavior()\n",
        "\n",
        "\n",
        "# Set up a virtual display for rendering OpenAI gym environments.\n",
        "display = pyvirtualdisplay.Display(visible=0, size=(1400, 900)).start()"
      ],
      "execution_count": 5,
      "outputs": [
        {
          "output_type": "stream",
          "text": [
            "xdpyinfo was not found, X start can not be checked! Please install xdpyinfo!\n"
          ],
          "name": "stderr"
        }
      ]
    },
    {
      "cell_type": "code",
      "metadata": {
        "id": "fXjdTq1FieoN",
        "colab_type": "code",
        "colab": {}
      },
      "source": [
        "#hyperparameters\n",
        "\n",
        "env_name = \"highway-v0\" # @param {type:\"string\"}\n",
        "num_iterations = 20000 # @param {type:\"integer\"}\n",
        "\n",
        "initial_collect_steps = 1000  # @param {type:\"integer\"} \n",
        "collect_steps_per_iteration = 1  # @param {type:\"integer\"}\n",
        "replay_buffer_capacity = 100000  # @param {type:\"integer\"}\n",
        "\n",
        "fc_layer_params = (100,)\n",
        "\n",
        "batch_size = 64  # @param {type:\"integer\"}\n",
        "learning_rate = 1e-3  # @param {type:\"number\"}\n",
        "gamma = 0.99\n",
        "log_interval = 200  # @param {type:\"integer\"}\n",
        "\n",
        "num_atoms = 51  # @param {type:\"integer\"}\n",
        "min_q_value = -20  # @param {type:\"integer\"}\n",
        "max_q_value = 20  # @param {type:\"integer\"}\n",
        "n_step_update = 2  # @param {type:\"integer\"}\n",
        "\n",
        "num_eval_episodes = 10  # @param {type:\"integer\"}\n",
        "eval_interval = 1000  # @param {type:\"integer\"}"
      ],
      "execution_count": 0,
      "outputs": []
    },
    {
      "cell_type": "code",
      "metadata": {
        "id": "bCYwbiypinzY",
        "colab_type": "code",
        "colab": {}
      },
      "source": [
        "#loading environment\n",
        "env = suite_gym.load(env_name)"
      ],
      "execution_count": 0,
      "outputs": []
    },
    {
      "cell_type": "code",
      "metadata": {
        "id": "9WgD5O8jlIKz",
        "colab_type": "code",
        "colab": {}
      },
      "source": [
        "# create train and evaluation environments\n",
        "train_py_env = suite_gym.load(env_name)\n",
        "eval_py_env = suite_gym.load(env_name)\n",
        "\n",
        "train_env = tf_py_environment.TFPyEnvironment(train_py_env)\n",
        "eval_env = tf_py_environment.TFPyEnvironment(eval_py_env)"
      ],
      "execution_count": 0,
      "outputs": []
    },
    {
      "cell_type": "code",
      "metadata": {
        "id": "_V1Y1OZ_lONj",
        "colab_type": "code",
        "colab": {}
      },
      "source": [
        "# create the actor network\n",
        "categorical_q_net = categorical_q_network.CategoricalQNetwork(\n",
        "    train_env.observation_spec(),\n",
        "    train_env.action_spec(),\n",
        "    num_atoms=num_atoms,\n",
        "    fc_layer_params=fc_layer_params)"
      ],
      "execution_count": 0,
      "outputs": []
    },
    {
      "cell_type": "code",
      "metadata": {
        "id": "6Pb_uw1nlx_E",
        "colab_type": "code",
        "colab": {}
      },
      "source": [
        "# define optimizer and c51 agent\n",
        "optimizer = tf.compat.v1.train.AdamOptimizer(learning_rate=learning_rate)\n",
        "\n",
        "train_step_counter = tf.compat.v2.Variable(0)\n",
        "\n",
        "agent = categorical_dqn_agent.CategoricalDqnAgent(\n",
        "    train_env.time_step_spec(),\n",
        "    train_env.action_spec(),\n",
        "    categorical_q_network=categorical_q_net,\n",
        "    optimizer=optimizer,\n",
        "    min_q_value=min_q_value,\n",
        "    max_q_value=max_q_value,\n",
        "    n_step_update=n_step_update,\n",
        "    td_errors_loss_fn=common.element_wise_squared_loss,\n",
        "    gamma=gamma,\n",
        "    train_step_counter=train_step_counter)\n",
        "agent.initialize()"
      ],
      "execution_count": 0,
      "outputs": []
    },
    {
      "cell_type": "code",
      "metadata": {
        "id": "XibsTWmimThf",
        "colab_type": "code",
        "outputId": "4be15c59-4edc-4c0b-c2c4-d2a422c5067e",
        "colab": {
          "base_uri": "https://localhost:8080/",
          "height": 33
        }
      },
      "source": [
        "# define metric function \n",
        "def compute_avg_return(environment, policy, num_episodes=10):\n",
        "\n",
        "  total_return = 0.0\n",
        "  for _ in range(num_episodes):\n",
        "\n",
        "    time_step = environment.reset()\n",
        "    episode_return = 0.0\n",
        "\n",
        "    while not time_step.is_last():\n",
        "      action_step = policy.action(time_step)\n",
        "      time_step = environment.step(action_step.action)\n",
        "      episode_return += time_step.reward\n",
        "    total_return += episode_return\n",
        "\n",
        "  avg_return = total_return / num_episodes\n",
        "  return avg_return.numpy()[0]\n",
        "\n",
        "\n",
        "random_policy = random_tf_policy.RandomTFPolicy(train_env.time_step_spec(),\n",
        "                                                train_env.action_spec())\n",
        "\n",
        "compute_avg_return(eval_env, random_policy, num_eval_episodes)\n"
      ],
      "execution_count": 11,
      "outputs": [
        {
          "output_type": "execute_result",
          "data": {
            "text/plain": [
              "21.506664"
            ]
          },
          "metadata": {
            "tags": []
          },
          "execution_count": 11
        }
      ]
    },
    {
      "cell_type": "code",
      "metadata": {
        "id": "3_Fo2HoNoGNO",
        "colab_type": "code",
        "colab": {}
      },
      "source": [
        "replay_buffer = tf_uniform_replay_buffer.TFUniformReplayBuffer(\n",
        "    data_spec=agent.collect_data_spec,\n",
        "    batch_size=train_env.batch_size,\n",
        "    max_length=replay_buffer_capacity)\n",
        "\n",
        "def collect_step(environment, policy):\n",
        "  time_step = environment.current_time_step()\n",
        "  action_step = policy.action(time_step)\n",
        "  next_time_step = environment.step(action_step.action)\n",
        "  traj = trajectory.from_transition(time_step, action_step, next_time_step)\n",
        "\n",
        "  # Add trajectory to the replay buffer\n",
        "  replay_buffer.add_batch(traj)\n",
        "\n",
        "for _ in range(initial_collect_steps):\n",
        "  collect_step(train_env, random_policy)\n",
        "\n",
        "# This loop is so common in RL, that we provide standard implementations of\n",
        "# these. For more details see the drivers module.\n",
        "\n",
        "# Dataset generates trajectories with shape [BxTx...] where\n",
        "# T = n_step_update + 1.\n",
        "dataset = replay_buffer.as_dataset(\n",
        "    num_parallel_calls=3, sample_batch_size=batch_size,\n",
        "    num_steps=n_step_update + 1).prefetch(3)\n",
        "\n",
        "iterator = iter(dataset)"
      ],
      "execution_count": 0,
      "outputs": []
    },
    {
      "cell_type": "code",
      "metadata": {
        "id": "QEWZBcbkoX7k",
        "colab_type": "code",
        "outputId": "f95e9abf-c86d-4586-d454-ebe357aa598e",
        "colab": {
          "base_uri": "https://localhost:8080/",
          "height": 1000
        }
      },
      "source": [
        "\n",
        "try:\n",
        "  %%time\n",
        "except:\n",
        "  pass\n",
        "\n",
        "# (Optional) Optimize by wrapping some of the code in a graph using TF function.\n",
        "agent.train = common.function(agent.train)\n",
        "\n",
        "# Reset the train step\n",
        "agent.train_step_counter.assign(0)\n",
        "\n",
        "# Evaluate the agent's policy once before training.\n",
        "avg_return = compute_avg_return(eval_env, agent.policy, num_eval_episodes)\n",
        "returns = [avg_return]\n",
        "\n",
        "for _ in range(num_iterations):\n",
        "\n",
        "  # Collect a few steps using collect_policy and save to the replay buffer.\n",
        "  for _ in range(collect_steps_per_iteration):\n",
        "    collect_step(train_env, agent.collect_policy)\n",
        "\n",
        "  # Sample a batch of data from the buffer and update the agent's network.\n",
        "  experience, unused_info = next(iterator)\n",
        "  train_loss = agent.train(experience)\n",
        "\n",
        "  step = agent.train_step_counter.numpy()\n",
        "\n",
        "  if step % log_interval == 0:\n",
        "    print('step = {0}: loss = {1}'.format(step, train_loss.loss))\n",
        "\n",
        "  if step % eval_interval == 0:\n",
        "    avg_return = compute_avg_return(eval_env, agent.policy, num_eval_episodes)\n",
        "    print('step = {0}: Average Return = {1:.2f}'.format(step, avg_return))\n",
        "    returns.append(avg_return)"
      ],
      "execution_count": 13,
      "outputs": [
        {
          "output_type": "stream",
          "text": [
            "CPU times: user 2 µs, sys: 0 ns, total: 2 µs\n",
            "Wall time: 6.2 µs\n",
            "WARNING:tensorflow:From /usr/local/lib/python3.6/dist-packages/tf_agents/utils/value_ops.py:89: calling foldr_v2 (from tensorflow.python.ops.functional_ops) with back_prop=False is deprecated and will be removed in a future version.\n",
            "Instructions for updating:\n",
            "back_prop=False is deprecated. Consider using tf.stop_gradient instead.\n",
            "Instead of:\n",
            "results = tf.foldr(fn, elems, back_prop=False)\n",
            "Use:\n",
            "results = tf.nest.map_structure(tf.stop_gradient, tf.foldr(fn, elems))\n",
            "step = 200: loss = 1.905087947845459\n",
            "step = 400: loss = 1.6331241130828857\n",
            "step = 600: loss = 1.2821800708770752\n",
            "step = 800: loss = 1.2750871181488037\n",
            "step = 1000: loss = 1.2923362255096436\n",
            "step = 1000: Average Return = 29.70\n",
            "step = 1200: loss = 1.6830967664718628\n",
            "step = 1400: loss = 1.991443157196045\n",
            "step = 1600: loss = 1.7424540519714355\n",
            "step = 1800: loss = 1.6883089542388916\n",
            "step = 2000: loss = 1.83030366897583\n",
            "step = 2000: Average Return = 28.89\n",
            "step = 2200: loss = 1.928336262702942\n",
            "step = 2400: loss = 1.8075642585754395\n",
            "step = 2600: loss = 1.4889276027679443\n",
            "step = 2800: loss = 1.5879652500152588\n",
            "step = 3000: loss = 1.574649691581726\n",
            "step = 3000: Average Return = 29.77\n",
            "step = 3200: loss = 1.754971981048584\n",
            "step = 3400: loss = 1.5830155611038208\n",
            "step = 3600: loss = 1.5528931617736816\n",
            "step = 3800: loss = 2.062274694442749\n",
            "step = 4000: loss = 1.1987061500549316\n",
            "step = 4000: Average Return = 29.00\n",
            "step = 4200: loss = 1.1977293491363525\n",
            "step = 4400: loss = 1.3809398412704468\n",
            "step = 4600: loss = 1.6001707315444946\n",
            "step = 4800: loss = 2.101801633834839\n",
            "step = 5000: loss = 1.274027705192566\n",
            "step = 5000: Average Return = 29.76\n",
            "step = 5200: loss = 1.5727407932281494\n",
            "step = 5400: loss = 1.6336073875427246\n",
            "step = 5600: loss = 2.053015947341919\n",
            "step = 5800: loss = 1.9006116390228271\n",
            "step = 6000: loss = 1.639178991317749\n",
            "step = 6000: Average Return = 30.05\n",
            "step = 6200: loss = 1.8384320735931396\n",
            "step = 6400: loss = 1.7504982948303223\n",
            "step = 6600: loss = 1.5822210311889648\n",
            "step = 6800: loss = 2.0825676918029785\n",
            "step = 7000: loss = 1.9481436014175415\n",
            "step = 7000: Average Return = 30.95\n",
            "step = 7200: loss = 1.9427636861801147\n",
            "step = 7400: loss = 1.6535272598266602\n",
            "step = 7600: loss = 1.6956062316894531\n",
            "step = 7800: loss = 2.0823075771331787\n",
            "step = 8000: loss = 1.4039812088012695\n",
            "step = 8000: Average Return = 30.09\n",
            "step = 8200: loss = 1.8519060611724854\n",
            "step = 8400: loss = 2.1308279037475586\n",
            "step = 8600: loss = 1.7449874877929688\n",
            "step = 8800: loss = 1.9844319820404053\n",
            "step = 9000: loss = 1.8745203018188477\n",
            "step = 9000: Average Return = 29.55\n",
            "step = 9200: loss = 1.5193649530410767\n",
            "step = 9400: loss = 1.8434875011444092\n",
            "step = 9600: loss = 2.1523334980010986\n",
            "step = 9800: loss = 1.5519596338272095\n",
            "step = 10000: loss = 1.6296613216400146\n",
            "step = 10000: Average Return = 28.74\n",
            "step = 10200: loss = 1.9401267766952515\n",
            "step = 10400: loss = 1.634890079498291\n",
            "step = 10600: loss = 1.7798597812652588\n",
            "step = 10800: loss = 1.9808305501937866\n",
            "step = 11000: loss = 2.163067579269409\n",
            "step = 11000: Average Return = 29.36\n",
            "step = 11200: loss = 2.1478750705718994\n",
            "step = 11400: loss = 2.122631549835205\n",
            "step = 11600: loss = 1.8416876792907715\n",
            "step = 11800: loss = 2.030198097229004\n",
            "step = 12000: loss = 1.950622797012329\n",
            "step = 12000: Average Return = 29.48\n",
            "step = 12200: loss = 1.6835966110229492\n",
            "step = 12400: loss = 1.9435908794403076\n",
            "step = 12600: loss = 1.96492600440979\n",
            "step = 12800: loss = 2.18436861038208\n",
            "step = 13000: loss = 2.2920031547546387\n",
            "step = 13000: Average Return = 28.04\n",
            "step = 13200: loss = 1.5871028900146484\n",
            "step = 13400: loss = 1.8911471366882324\n",
            "step = 13600: loss = 2.1166586875915527\n",
            "step = 13800: loss = 2.2060422897338867\n",
            "step = 14000: loss = 2.0784413814544678\n",
            "step = 14000: Average Return = 27.50\n",
            "step = 14200: loss = 1.7748959064483643\n",
            "step = 14400: loss = 1.8248587846755981\n",
            "step = 14600: loss = 1.8390614986419678\n",
            "step = 14800: loss = 2.0861763954162598\n",
            "step = 15000: loss = 2.062547445297241\n",
            "step = 15000: Average Return = 31.90\n",
            "step = 15200: loss = 1.7664237022399902\n",
            "step = 15400: loss = 1.4956820011138916\n",
            "step = 15600: loss = 1.885933756828308\n",
            "step = 15800: loss = 2.0298500061035156\n",
            "step = 16000: loss = 1.6055936813354492\n",
            "step = 16000: Average Return = 30.93\n",
            "step = 16200: loss = 1.706392526626587\n",
            "step = 16400: loss = 2.0561461448669434\n",
            "step = 16600: loss = 1.9424761533737183\n",
            "step = 16800: loss = 1.9557565450668335\n",
            "step = 17000: loss = 1.6759767532348633\n",
            "step = 17000: Average Return = 27.23\n",
            "step = 17200: loss = 1.8367173671722412\n",
            "step = 17400: loss = 1.9885790348052979\n",
            "step = 17600: loss = 1.829297423362732\n",
            "step = 17800: loss = 1.8243722915649414\n",
            "step = 18000: loss = 1.742713451385498\n",
            "step = 18000: Average Return = 29.64\n",
            "step = 18200: loss = 2.1564948558807373\n",
            "step = 18400: loss = 1.8607983589172363\n",
            "step = 18600: loss = 1.9649646282196045\n",
            "step = 18800: loss = 2.0311553478240967\n",
            "step = 19000: loss = 1.6699059009552002\n",
            "step = 19000: Average Return = 28.37\n",
            "step = 19200: loss = 2.2198984622955322\n",
            "step = 19400: loss = 1.7735233306884766\n",
            "step = 19600: loss = 1.5168097019195557\n",
            "step = 19800: loss = 1.8115969896316528\n",
            "step = 20000: loss = 1.9481816291809082\n",
            "step = 20000: Average Return = 29.65\n"
          ],
          "name": "stdout"
        }
      ]
    },
    {
      "cell_type": "code",
      "metadata": {
        "id": "z8wmszg5s-Z4",
        "colab_type": "code",
        "outputId": "a85b37ca-f123-47b1-9e63-a611af693a4b",
        "colab": {
          "base_uri": "https://localhost:8080/",
          "height": 283
        }
      },
      "source": [
        "steps = range(0, num_iterations + 1, eval_interval)\n",
        "plt.plot(steps, returns)\n",
        "plt.ylabel('Average Return')\n",
        "plt.xlabel('Step')\n",
        "plt.ylim(top=32)\n",
        "import os \n",
        "os.chdir('/content/gdrive/My Drive/265')\n",
        "plt.savefig('c51.png')"
      ],
      "execution_count": 14,
      "outputs": [
        {
          "output_type": "display_data",
          "data": {
            "image/png": "[encoded data removed]",
            "text/plain": [
              "<Figure size 432x288 with 1 Axes>"
            ]
          },
          "metadata": {
            "tags": [],
            "needs_background": "light"
          }
        }
      ]
    },
    {
      "cell_type": "code",
      "metadata": {
        "id": "n5MRt3QJSAN0",
        "colab_type": "code",
        "outputId": "6b8d1c80-7165-4674-fbe9-4780cf51ae72",
        "colab": {
          "base_uri": "https://localhost:8080/",
          "height": 33
        }
      },
      "source": [
        "import os \n",
        "os.chdir('/content/gdrive/My Drive/265')\n",
        "plt.savefig('dqn.png')"
      ],
      "execution_count": 0,
      "outputs": [
        {
          "output_type": "display_data",
          "data": {
            "text/plain": [
              "<Figure size 432x288 with 0 Axes>"
            ]
          },
          "metadata": {
            "tags": []
          }
        }
      ]
    },
    {
      "cell_type": "code",
      "metadata": {
        "id": "G0DTygbXt7Pg",
        "colab_type": "code",
        "colab": {}
      },
      "source": [
        "def embed_mp4(filename):\n",
        "  \"\"\"Embeds an mp4 file in the notebook.\"\"\"\n",
        "  video = open(filename,'rb').read()\n",
        "  b64 = base64.b64encode(video)\n",
        "  tag = '''\n",
        "  <video width=\"640\" height=\"480\" controls>\n",
        "    <source src=\"data:video/mp4;base64,{0}\" type=\"video/mp4\">\n",
        "  Your browser does not support the video tag.\n",
        "  </video>'''.format(b64.decode())\n",
        "\n",
        "  return IPython.display.HTML(tag)"
      ],
      "execution_count": 0,
      "outputs": []
    },
    {
      "cell_type": "code",
      "metadata": {
        "id": "L0iH3z9-uEhP",
        "colab_type": "code",
        "colab": {}
      },
      "source": [
        "num_episodes = 3\n",
        "video_filename = 'imageio.mp4'\n",
        "with imageio.get_writer(video_filename, fps=60) as video:\n",
        "  for _ in range(num_episodes):\n",
        "    time_step = eval_env.reset()\n",
        "    video.append_data(eval_py_env.render())\n",
        "    while not time_step.is_last():\n",
        "      action_step = tf_agent.policy.action(time_step)\n",
        "      time_step = eval_env.step(action_step.action)\n",
        "      video.append_data(eval_py_env.render())\n",
        "\n",
        "embed_mp4(video_filename)"
      ],
      "execution_count": 0,
      "outputs": []
    },
    {
      "cell_type": "code",
      "metadata": {
        "id": "ECrXxjHVWWRq",
        "colab_type": "code",
        "outputId": "6a220b51-2d69-4d5e-9fca-8bbb3c3801e4",
        "colab": {
          "base_uri": "https://localhost:8080/",
          "height": 50
        }
      },
      "source": [
        "#save policy\n",
        "from tf_agents.policies.policy_saver import PolicySaver\n",
        "\n",
        "my_policy = agent.collect_policy\n",
        "saver = PolicySaver(my_policy, batch_size=None)\n",
        "\n",
        "saver.save('/content/gdrive/My Drive/265/policy_10000')\n"
      ],
      "execution_count": 0,
      "outputs": [
        {
          "output_type": "stream",
          "text": [
            "INFO:tensorflow:Assets written to: /content/gdrive/My Drive/265/policy_10000/assets\n"
          ],
          "name": "stdout"
        },
        {
          "output_type": "stream",
          "text": [
            "INFO:tensorflow:Assets written to: /content/gdrive/My Drive/265/policy_10000/assets\n"
          ],
          "name": "stderr"
        }
      ]
    }
  ]
}